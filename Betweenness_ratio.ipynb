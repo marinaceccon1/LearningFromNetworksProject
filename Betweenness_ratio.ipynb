{
  "nbformat": 4,
  "nbformat_minor": 0,
  "metadata": {
    "colab": {
      "provenance": [],
      "include_colab_link": true
    },
    "kernelspec": {
      "name": "python3",
      "display_name": "Python 3"
    },
    "language_info": {
      "name": "python"
    }
  },
  "cells": [
    {
      "cell_type": "markdown",
      "metadata": {
        "id": "view-in-github",
        "colab_type": "text"
      },
      "source": [
        "<a href=\"https://colab.research.google.com/github/marinaceccon1/LearningFromNetworksProject/blob/main/Betweenness_ratio.ipynb\" target=\"_parent\"><img src=\"https://colab.research.google.com/assets/colab-badge.svg\" alt=\"Open In Colab\"/></a>"
      ]
    },
    {
      "cell_type": "code",
      "execution_count": null,
      "metadata": {
        "id": "cSYrTUzhY-Qv"
      },
      "outputs": [],
      "source": [
        "#import all the needed libraries\n",
        "import networkx as nx\n",
        "import numpy as np\n",
        "import sys\n",
        "import collections\n",
        "from builtins import sum as siumm"
      ]
    },
    {
      "cell_type": "code",
      "source": [
        "#clone the github repository containing the dataset\n",
        "!git clone https://github.com/marinaceccon1/LearningFromNetworksProject.git"
      ],
      "metadata": {
        "colab": {
          "base_uri": "https://localhost:8080/"
        },
        "id": "glwrcQLv10bX",
        "outputId": "42a957e9-89e4-4b2d-ed86-e432e8b4d741"
      },
      "execution_count": null,
      "outputs": [
        {
          "output_type": "stream",
          "name": "stdout",
          "text": [
            "Cloning into 'LearningFromNetworksProject'...\n",
            "remote: Enumerating objects: 18, done.\u001b[K\n",
            "remote: Counting objects: 100% (18/18), done.\u001b[K\n",
            "remote: Compressing objects: 100% (17/17), done.\u001b[K\n",
            "remote: Total 18 (delta 0), reused 0 (delta 0), pack-reused 0\u001b[K\n",
            "Unpacking objects: 100% (18/18), 6.19 MiB | 2.80 MiB/s, done.\n"
          ]
        }
      ]
    },
    {
      "cell_type": "code",
      "source": [
        "# parameter K for the K nodes with the correct ratio centr/lcc\n",
        "K = 29601"
      ],
      "metadata": {
        "id": "Osi3uDmP10fY"
      },
      "execution_count": null,
      "outputs": []
    },
    {
      "cell_type": "code",
      "source": [
        "# load the data and create the graph representing the network\n",
        "matrix = np.loadtxt('/content/LearningFromNetworksProject/out.txt', usecols=range(2))\n",
        "G = nx.from_edgelist(matrix)"
      ],
      "metadata": {
        "id": "i3bo1ecJ10i0"
      },
      "execution_count": null,
      "outputs": []
    },
    {
      "cell_type": "code",
      "source": [
        "# computes the local clustering coefficient and order the dictionary w.r.t. the keys\n",
        "lcc = nx.clustering(G)\n",
        "ordered_lcc = collections.OrderedDict(sorted(lcc.items()))"
      ],
      "metadata": {
        "id": "hqJ3lf-Y10mj"
      },
      "execution_count": null,
      "outputs": []
    },
    {
      "cell_type": "code",
      "source": [
        "# Open the file with 'read' mode\n",
        "f = open('/content/LearningFromNetworksProject/bet.txt', 'r')\n",
        "\n",
        "# Read all lines in the file\n",
        "lines = f.readlines()\n",
        "\n",
        "# Close the file\n",
        "f.close()\n",
        "\n",
        "# Create an empty list\n",
        "bet_centralities = []\n",
        "\n",
        "# Iterate over the lines and append the values to the list\n",
        "for line in lines:\n",
        "  bet_centralities.append(float(line))"
      ],
      "metadata": {
        "id": "_Lcdn62m10qz"
      },
      "execution_count": null,
      "outputs": []
    },
    {
      "cell_type": "code",
      "source": [
        "#define a softmax function\n",
        "def softmax(vector):\n",
        "\te = np.exp(vector)\n",
        "\treturn e / e.sum()"
      ],
      "metadata": {
        "id": "4Oz54UuC10vp"
      },
      "execution_count": null,
      "outputs": []
    },
    {
      "cell_type": "code",
      "source": [
        "# extract the values of local clustering coefficient in the dictionary and insert them in a list \n",
        "# replace the vector with its softmax in order to avoid zero values\n",
        "ordered_lcc_values = softmax(list(ordered_lcc.values()))"
      ],
      "metadata": {
        "id": "QaCMCzMI10za"
      },
      "execution_count": null,
      "outputs": []
    },
    {
      "cell_type": "code",
      "source": [
        "# check if everything is ok\n",
        "assert[len(bet_centralities)==len(ordered_lcc_values)]\n",
        "\n",
        "ratios_1 = {} #new dictionary containing as value bet_centr/lcc\n",
        "\n",
        "for i in range(len(ordered_lcc_values)):\n",
        "  ratios_1[i+1] = (bet_centralities[i]/ordered_lcc_values[i])   #the keys in the dictionaries start from 1, the indices in the lists start from 0\n",
        "\n",
        "# sort the dictionary by value, since reverse is equal to True, sort them in decreasing order\n",
        "# in this way the first K nodes are the one we are interested in\n",
        "sorted_ratios_1 = sorted(ratios_1.items(), key=lambda x:x[1], reverse = True) \n",
        "\n",
        "# the output of the above function is a list of pairs of numbers, in each pair the first number represents\n",
        "# the key of the node, the second number is its value ratio = bet_centr/lcc\n",
        "# to access the key of the i-th pair the necessary command is sorted_ratio_1[i][0]"
      ],
      "metadata": {
        "id": "Ud_SMpuL103W"
      },
      "execution_count": null,
      "outputs": []
    },
    {
      "cell_type": "code",
      "source": [
        "#sorted_ratios is a list of pairs of numbers, in each pair the first number represents the key of the node, \n",
        "#the second number is its value ratio = deg_centr/lcc\n",
        "#to access the key of the i-th pair the necessary command is sorted_ratios[i][0]\n",
        "\n",
        "cardinalities_1 = {} #new dictionary, the keys will be pairs of nodes that are not adjacent, the value is the cardinality \n",
        "#of the intersection of their neighbourhoods\n",
        "\n",
        "for i in range(K): #approximation: we only consider the K nodes with highest ratio\n",
        "  for j in range(i+1,K): #in order not to contemplate the same pair twice, first as (i,j) and after as (j,i), we set j>i\n",
        "    \n",
        "    breakout_flag = False #needed to compute a double break\n",
        "    for key,value in (G.adj[sorted_ratios_1[i][0]]).items(): #check the neighbours of sorted_ratios[i][0]      \n",
        "      if key == sorted_ratios_1[j][0]: #if inverse_sorted_ratio[j][0] is a neighbour of sorted_ratios[i][0]\n",
        "        breakout_flag = True\n",
        "        break #exit the for key,value loop\n",
        "    if breakout_flag:\n",
        "      break #exit the for j loop\n",
        "\n",
        "    s1 = set(G.adj[sorted_ratios_1[i][0]]) #convert the dictionary in a set containing all the keys in the dictionary\n",
        "    s2 = set(G.adj[sorted_ratios_1[j][0]])\n",
        "    res = s1 & s2 #keys that belong to both sets\n",
        "\n",
        "    cardinalities_1[(sorted_ratios_1[i][0], sorted_ratios_1[j][0])] = len(res) #the value associated to that pair \n",
        "    #of nodes is the cardinality of the intersection computed above\n",
        "\n",
        "inverse_sorted_card_1 = sorted(cardinalities_1.items(), key=lambda x:x[1], reverse = True) #order the dictionary by value"
      ],
      "metadata": {
        "id": "4JeWxseM107i"
      },
      "execution_count": null,
      "outputs": []
    },
    {
      "cell_type": "code",
      "source": [
        "N = 500"
      ],
      "metadata": {
        "id": "Lxtbv6jr10_4"
      },
      "execution_count": null,
      "outputs": []
    },
    {
      "cell_type": "code",
      "source": [
        "G_i_bet = G.copy()"
      ],
      "metadata": {
        "id": "ntFdbENu11DD"
      },
      "execution_count": null,
      "outputs": []
    },
    {
      "cell_type": "code",
      "source": [
        "#add the first N edges of inverse_sorted_card_1\n",
        "for i in range(N):\n",
        "  u_bet = inverse_sorted_card_1[i][0][0]\n",
        "  v_bet = inverse_sorted_card_1[i][0][1]\n",
        "  G_i_bet.add_edge(u_bet,v_bet)\n",
        "\n",
        "glo_clu_coeff_bet = nx.transitivity(G_i_bet) #global clustering coefficient of the new graph\n",
        "print(glo_clu_coeff_bet)"
      ],
      "metadata": {
        "id": "MeP8Vh7311Gm",
        "colab": {
          "base_uri": "https://localhost:8080/"
        },
        "outputId": "f8aa68ab-3fe1-416d-ecf8-115c46062acd"
      },
      "execution_count": null,
      "outputs": [
        {
          "output_type": "stream",
          "name": "stdout",
          "text": [
            "0.14816126549007305\n"
          ]
        }
      ]
    },
    {
      "cell_type": "code",
      "source": [
        "triangles_tot = siumm(nx.triangles(G_i_bet).values()) #number of triangles of the new graph\n",
        "print(triangles_tot/3)"
      ],
      "metadata": {
        "id": "2K1C-Ech11KZ",
        "colab": {
          "base_uri": "https://localhost:8080/"
        },
        "outputId": "d5df9ae8-a9a2-4b8e-ea9f-e82f7052cfdb"
      },
      "execution_count": null,
      "outputs": [
        {
          "output_type": "stream",
          "name": "stdout",
          "text": [
            "3520575.0\n"
          ]
        }
      ]
    }
  ]
}