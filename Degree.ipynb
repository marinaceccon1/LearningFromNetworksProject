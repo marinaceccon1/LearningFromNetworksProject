{
  "nbformat": 4,
  "nbformat_minor": 0,
  "metadata": {
    "colab": {
      "provenance": [],
      "include_colab_link": true
    },
    "kernelspec": {
      "name": "python3",
      "display_name": "Python 3"
    },
    "language_info": {
      "name": "python"
    }
  },
  "cells": [
    {
      "cell_type": "markdown",
      "metadata": {
        "id": "view-in-github",
        "colab_type": "text"
      },
      "source": [
        "<a href=\"https://colab.research.google.com/github/marinaceccon1/LearningFromNetworksProject/blob/main/Degree.ipynb\" target=\"_parent\"><img src=\"https://colab.research.google.com/assets/colab-badge.svg\" alt=\"Open In Colab\"/></a>"
      ]
    },
    {
      "cell_type": "code",
      "execution_count": null,
      "metadata": {
        "id": "6jTjSDHScNpR"
      },
      "outputs": [],
      "source": [
        "import networkx as nx\n",
        "import numpy as np\n",
        "import sys\n",
        "import collections\n",
        "import random"
      ]
    },
    {
      "cell_type": "code",
      "source": [
        "#clone the github repository containing the dataset\n",
        "!git clone https://github.com/marinaceccon1/LearningFromNetworksProject.git"
      ],
      "metadata": {
        "colab": {
          "base_uri": "https://localhost:8080/"
        },
        "id": "6ITqFjyVchRu",
        "outputId": "34fe2e4b-a0e5-42fd-c0a0-050a65f6769a"
      },
      "execution_count": null,
      "outputs": [
        {
          "output_type": "stream",
          "name": "stdout",
          "text": [
            "fatal: destination path 'LearningFromNetworksProject' already exists and is not an empty directory.\n"
          ]
        }
      ]
    },
    {
      "cell_type": "code",
      "source": [
        "# load the data and create the graph representing the network\n",
        "matrix = np.loadtxt('/content/LearningFromNetworksProject/out.txt', usecols=range(2))\n",
        "G = nx.from_edgelist(matrix)"
      ],
      "metadata": {
        "id": "VWhW_RRccjQo"
      },
      "execution_count": null,
      "outputs": []
    },
    {
      "cell_type": "code",
      "source": [
        "# computes the local clustering coefficient and order the dictionaries w.r.t. the keys\n",
        "lcc = nx.clustering(G)\n",
        "ordered_lcc = collections.OrderedDict(sorted(lcc.items()))"
      ],
      "metadata": {
        "id": "l2t6EcoqcpMe"
      },
      "execution_count": null,
      "outputs": []
    },
    {
      "cell_type": "code",
      "source": [
        "# computes the degree centrality and order the dictionaries w.r.t. the keys\n",
        "deg_centralities = nx.degree_centrality(G)\n",
        "ordered_deg_centralities = collections.OrderedDict(sorted(deg_centralities.items()))"
      ],
      "metadata": {
        "colab": {
          "base_uri": "https://localhost:8080/"
        },
        "id": "gAClXeXZcxYs",
        "outputId": "8077775c-9392-4dd5-a1c6-bb6dda66cdc3"
      },
      "execution_count": null,
      "outputs": [
        {
          "output_type": "stream",
          "name": "stdout",
          "text": [
            "0.00040797112819708145\n",
            "0.00040797112819708145\n",
            "0.0005335007061038757\n",
            "0.00015691197238349287\n",
            "0.0005178095088655265\n"
          ]
        }
      ]
    },
    {
      "cell_type": "code",
      "source": [
        "sorted_lcc = sorted(ordered_lcc.items(), key=lambda x:x[1], reverse = False)"
      ],
      "metadata": {
        "id": "HHS9eH7ccxgk"
      },
      "execution_count": null,
      "outputs": []
    },
    {
      "cell_type": "code",
      "source": [
        "for i in range(len(sorted_lcc)):\n",
        "  if sorted_lcc[i][1] > 0.25:\n",
        "    len_sorted_lcc = i\n",
        "    break"
      ],
      "metadata": {
        "id": "edgiGH8GdR0V"
      },
      "execution_count": null,
      "outputs": []
    },
    {
      "cell_type": "code",
      "source": [
        "sorted_deg_centr = sorted(ordered_deg_centralities.items(),  key=lambda x:x[1], reverse = True)\n"
      ],
      "metadata": {
        "colab": {
          "base_uri": "https://localhost:8080/"
        },
        "id": "MQRvVL10dEBW",
        "outputId": "b1e5bdd2-a2b9-4d14-e4f6-5f471b5d39d5"
      },
      "execution_count": null,
      "outputs": [
        {
          "output_type": "stream",
          "name": "stdout",
          "text": [
            "(471.0, 0.014577122234426487)\n",
            "(554.0, 0.014388827867566295)\n",
            "(2322.0, 0.012505884198964382)\n",
            "(23.0, 0.012003765887337203)\n",
            "(451.0, 0.012003765887337203)\n"
          ]
        }
      ]
    },
    {
      "cell_type": "code",
      "source": [
        "len_sorted_deg_centr = 0\n",
        "for i in range(len(sorted_deg_centr)):\n",
        "  if sorted_deg_centr[i][1] < 0.00005:\n",
        "    len_sorted_deg_centr = i\n",
        "    break"
      ],
      "metadata": {
        "id": "r4lwf0ItdEKp"
      },
      "execution_count": null,
      "outputs": []
    },
    {
      "cell_type": "code",
      "source": [
        "# creates a new list with the nodes with the desired value\n",
        "new_sorted_lcc = []\n",
        "for i in range(len_sorted_lcc):\n",
        "  new_sorted_lcc.append(sorted_lcc[i][0])\n",
        "s1 = set(new_sorted_lcc)"
      ],
      "metadata": {
        "id": "U8ROWuLxdEW_"
      },
      "execution_count": null,
      "outputs": []
    },
    {
      "cell_type": "code",
      "source": [
        "# creates a new list with the nodes with the desired value\n",
        "new_sorted_bet_centr = []\n",
        "for i in range(len_sorted_deg_centr):\n",
        "  new_sorted_bet_centr.append(sorted_deg_centr[i][0])\n",
        "s2 = set(new_sorted_bet_centr)"
      ],
      "metadata": {
        "id": "9DdHsorOjg_J"
      },
      "execution_count": null,
      "outputs": []
    },
    {
      "cell_type": "code",
      "source": [
        "# computes the intersection\n",
        "s = s1 & s2"
      ],
      "metadata": {
        "id": "I8WVydHmjhI9"
      },
      "execution_count": null,
      "outputs": []
    },
    {
      "cell_type": "code",
      "source": [
        "node_list = list(s)"
      ],
      "metadata": {
        "id": "IUDAbyemjhTr"
      },
      "execution_count": null,
      "outputs": []
    },
    {
      "cell_type": "code",
      "source": [
        "cardinalities = {} #new dictionary, the keys will be pairs of nodes that are not adjacent, the value is the cardinality \n",
        "#of the intersection of their neighbourhoods\n",
        "\n",
        "for i in range(len(node_list)): #approximation: we only consider the K nodes with highest ratio\n",
        "  for j in range(i+1,len(node_list)): #in order not to contemplate the same pair twice, first as (i,j) and after as (j,i), we set j>i\n",
        "    \n",
        "    breakout_flag = False #needed to compute a double break\n",
        "    for key,value in (G.adj[node_list[i]]).items(): #check the neighbours of sorted_ratios[i][0]      \n",
        "      if key == node_list[j]: #if inverse_sorted_ratio[j][0] is a neighbour of sorted_ratios[i][0]\n",
        "        breakout_flag = True\n",
        "        break #exit the for key,value loop\n",
        "    if breakout_flag:\n",
        "      break #exit the for j loop\n",
        "\n",
        "    s1 = set(G.adj[node_list[i]]) #convert the dictionary in a set containing all the keys in the dictionary\n",
        "    s2 = set(G.adj[node_list[j]])\n",
        "    res = s1 & s2 #keys that belong to both sets\n",
        "\n",
        "    cardinalities[(node_list[i], node_list[j])] = len(res) #the value associated to that pair \n",
        "    #of nodes is the cardinality of the intersection computed above\n",
        "\n",
        "inverse_sorted_card = sorted(cardinalities.items(), key=lambda x:x[1], reverse = True) #order the dictionary by value"
      ],
      "metadata": {
        "id": "fD9x8ajGl3mg"
      },
      "execution_count": null,
      "outputs": []
    },
    {
      "cell_type": "code",
      "source": [
        "N = 500"
      ],
      "metadata": {
        "id": "vhhlhM60l3zV"
      },
      "execution_count": null,
      "outputs": []
    },
    {
      "cell_type": "code",
      "source": [
        "G_1 = G.copy()\n",
        "for i in range(N):\n",
        "  u = inverse_sorted_card[i][0][0]\n",
        "  v = inverse_sorted_card[i][0][1]\n",
        "  G_1.add_edge(u,v)\n",
        "\n",
        "glo_clu_coeff = nx.transitivity(G_1) # not a global variable\n",
        "triangles = nx. triangles(G_1)\n",
        "print(glo_clu_coeff)\n",
        "print(triangles)"
      ],
      "metadata": {
        "colab": {
          "base_uri": "https://localhost:8080/"
        },
        "id": "ZQyeKS3_l358",
        "outputId": "f25d5124-fd4a-461c-cde1-e63c7824a842"
      },
      "execution_count": null,
      "outputs": [
        {
          "output_type": "stream",
          "name": "stdout",
          "text": [
            "0.14806849469334796\n"
          ]
        }
      ]
    },
    {
      "cell_type": "markdown",
      "source": [
        "# Computationnì adding N random edges"
      ],
      "metadata": {
        "id": "EIAPluCTZc76"
      }
    },
    {
      "cell_type": "code",
      "source": [
        "import random\n",
        "from builtins import sum as siumm\n",
        "\n",
        "N=500\n",
        "glo_clu=[]\n",
        "triangles = []\n",
        "#I average 10 clustering coefficents i get by adding N random edges \n",
        "for i in range(10):\n",
        "  G_i = G.copy()\n",
        "  j = 1\n",
        "  while j <= N:\n",
        "    u = random.randint(1,G.number_of_nodes())\n",
        "    v = random.randint(1,G.number_of_nodes())\n",
        "    if not G_i.has_edge(u, v):\n",
        "      G_i.add_edge(u,v)\n",
        "      j+=1\n",
        "  glo_clu_i = nx.transitivity(G_i)\n",
        "  triangle = siumm(nx.triangles(G_i).values())/3\n",
        "  glo_clu.append(glo_clu_i)\n",
        "  triangles.append(triangle)\n",
        "avg_glo_clu = sum(glo_clu)/len(glo_clu)\n",
        "avg_triangl = sum(triangles)/len(triangles)"
      ],
      "metadata": {
        "id": "fh3Czl4bWmQy"
      },
      "execution_count": null,
      "outputs": []
    },
    {
      "cell_type": "code",
      "source": [
        "print(avg_glo_clu)\n",
        "print(avg_triangl)"
      ],
      "metadata": {
        "id": "XgndytCkjM4Y"
      },
      "execution_count": null,
      "outputs": []
    }
  ]
}